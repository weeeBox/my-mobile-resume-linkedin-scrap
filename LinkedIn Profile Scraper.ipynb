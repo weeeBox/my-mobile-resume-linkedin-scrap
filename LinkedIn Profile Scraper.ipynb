{
 "cells": [
  {
   "cell_type": "code",
   "execution_count": 8,
   "metadata": {
    "collapsed": true,
    "pycharm": {
     "name": "#%%\n"
    }
   },
   "outputs": [
    {
     "name": "stderr",
     "output_type": "stream",
     "text": [
      "[WDM] - Current google-chrome version is 87.0.4280\n",
      "[WDM] - Get LATEST driver version for 87.0.4280\n",
      "[WDM] - There is no [mac64] chromedriver for browser 87.0.4280 in cache\n",
      "[WDM] - Get LATEST driver version for 87.0.4280\n",
      "[WDM] - Trying to download new driver from http://chromedriver.storage.googleapis.com/87.0.4280.88/chromedriver_mac64.zip\n",
      "[WDM] - Driver has been saved in cache [/Users/alementuev/.wdm/drivers/chromedriver/mac64/87.0.4280.88]\n",
      "<ipython-input-8-dab0fdd945fb>:9: DeprecationWarning: use options instead of chrome_options\n",
      "  driver = webdriver.Chrome(ChromeDriverManager().install(), chrome_options=options)\n"
     ]
    },
    {
     "name": "stdout",
     "output_type": "stream",
     "text": [
      " \n"
     ]
    }
   ],
   "source": [
    "from selenium import webdriver\n",
    "from webdriver_manager.chrome import ChromeDriverManager\n",
    "\n",
    "options = webdriver.ChromeOptions()\n",
    "options.add_argument('--ignore-certificate-errors')\n",
    "options.add_argument('--incognito')\n",
    "options.add_argument('--headless')\n",
    "\n",
    "driver = webdriver.Chrome(ChromeDriverManager().install(), chrome_options=options)"
   ]
  },
  {
   "cell_type": "code",
   "execution_count": 17,
   "outputs": [],
   "source": [
    "url = 'https://www.linkedin.com/in/alementuev/'\n",
    "driver.get(url)\n"
   ],
   "metadata": {
    "collapsed": false,
    "pycharm": {
     "name": "#%%\n"
    }
   }
  },
  {
   "cell_type": "code",
   "execution_count": 18,
   "outputs": [],
   "source": [
    "page_source = driver.page_source"
   ],
   "metadata": {
    "collapsed": false,
    "pycharm": {
     "name": "#%%\n"
    }
   }
  },
  {
   "cell_type": "code",
   "execution_count": 25,
   "outputs": [],
   "source": [
    "from bs4 import BeautifulSoup\n",
    "soup = BeautifulSoup(page_source, 'html.parser')"
   ],
   "metadata": {
    "collapsed": false,
    "pycharm": {
     "name": "#%%\n"
    }
   }
  },
  {
   "cell_type": "code",
   "execution_count": 45,
   "outputs": [],
   "source": [
    "import re\n",
    "\n",
    "cover_image = soup.find('figure', class_='cover-img onload lazy-loaded')\n",
    "cover_image_url = re.search(r'url\\(\"(.*?)\"\\)', cover_image['style'])[1]"
   ],
   "metadata": {
    "collapsed": false,
    "pycharm": {
     "name": "#%%\n"
    }
   }
  },
  {
   "cell_type": "code",
   "execution_count": 46,
   "outputs": [],
   "source": [
    "profile_image = soup.find('img', class_='artdeco-entity-image artdeco-entity-image--profile artdeco-entity-image--circle-8 top-card-layout__entity-image top-card__profile-image top-card__profile-image--real-image onload lazy-loaded')\n",
    "profile_image_url = profile_image['src']"
   ],
   "metadata": {
    "collapsed": false,
    "pycharm": {
     "name": "#%%\n"
    }
   }
  },
  {
   "cell_type": "code",
   "execution_count": 28,
   "outputs": [],
   "source": [
    "title = soup.find('h1', class_='top-card-layout__title').text\n",
    "title = title.strip()"
   ],
   "metadata": {
    "collapsed": false,
    "pycharm": {
     "name": "#%%\n"
    }
   }
  },
  {
   "cell_type": "code",
   "execution_count": 51,
   "outputs": [],
   "source": [
    "headline = soup.find('h2', class_='top-card-layout__headline').text.strip()"
   ],
   "metadata": {
    "collapsed": false,
    "pycharm": {
     "name": "#%%\n"
    }
   }
  },
  {
   "cell_type": "code",
   "execution_count": 31,
   "outputs": [],
   "source": [
    "location = soup.find('span', class_='top-card__subline-item').text"
   ],
   "metadata": {
    "collapsed": false,
    "pycharm": {
     "name": "#%%\n"
    }
   }
  },
  {
   "cell_type": "code",
   "execution_count": 32,
   "outputs": [],
   "source": [
    "connections = soup.find('span', class_='top-card__subline-item top-card__subline-item--bullet').text"
   ],
   "metadata": {
    "collapsed": false,
    "pycharm": {
     "name": "#%%\n"
    }
   }
  },
  {
   "cell_type": "code",
   "execution_count": 58,
   "outputs": [],
   "source": [
    "position_details = soup.find('div', {'data-section':'currentPositionsDetails'})\n",
    "company = position_details.find('span', class_='top-card-link__description').text.strip()\n",
    "company_image_url = position_details.find('img', class_='artdeco-entity-image artdeco-entity-image--company artdeco-entity-image--square-1 artdeco-entity-image--ghost artdeco-entity-image--ghost-company top-card-link__logo lazy-loaded')['src']\n"
   ],
   "metadata": {
    "collapsed": false,
    "pycharm": {
     "name": "#%%\n"
    }
   }
  },
  {
   "cell_type": "code",
   "execution_count": 57,
   "outputs": [],
   "source": [
    "education_details = soup.find('div', {'data-section': 'educationsDetails'})\n",
    "school_name = education_details.find('span', class_='top-card-link__description').text.strip()\n",
    "school_url = education_details.find('a', class_='top-card-link top-card-link--link')['href']\n",
    "school_image_url = education_details.find('img', class_='artdeco-entity-image artdeco-entity-image--school artdeco-entity-image--square-1 top-card-link__logo lazy-loaded')['src']"
   ],
   "metadata": {
    "collapsed": false,
    "pycharm": {
     "name": "#%%\n"
    }
   }
  },
  {
   "cell_type": "code",
   "execution_count": 59,
   "outputs": [],
   "source": [
    "about = soup.find('section', class_='summary pp-section')\n",
    "about_summary = about.find('p').text.strip()"
   ],
   "metadata": {
    "collapsed": false,
    "pycharm": {
     "name": "#%%\n"
    }
   }
  },
  {
   "cell_type": "code",
   "execution_count": 77,
   "outputs": [],
   "source": [
    "class ExperienceItem:\n",
    "    def __init__(self, position, start_date, end_date, location, description):\n",
    "        self.position = position\n",
    "        self.company = company\n",
    "        self.start_date = start_date\n",
    "        self.end_date = end_date\n",
    "        self.description = description\n",
    "        self.location = location\n",
    "\n",
    "class ExperienceGroup:\n",
    "    def __init__(self, company, items):\n",
    "        self.company = company\n",
    "        self.items = items\n"
   ],
   "metadata": {
    "collapsed": false,
    "pycharm": {
     "name": "#%%\n"
    }
   }
  },
  {
   "cell_type": "code",
   "execution_count": 126,
   "outputs": [],
   "source": [
    "def parse_experience_card(node):\n",
    "    classes = node['class']\n",
    "    if 'experience-group' in classes:\n",
    "        return parse_experience_group(node)\n",
    "    if 'experience-item' in classes:\n",
    "        return parse_experience_item(node)\n",
    "\n",
    "    raise ValueError(f'Unexpected node: {node}')\n",
    "\n",
    "def parse_experience_group(node):\n",
    "    company = node.find('h4', class_='experience-group-header__company').text.strip()\n",
    "    positions_list = node.find('ul', class_='experience-group__positions')\n",
    "    cards = positions_list.findAll('li')\n",
    "    items = list(map(parse_experience_group_position, cards))\n",
    "    return ExperienceGroup(company, items)\n",
    "\n",
    "def parse_experience_group_position(node):\n",
    "    position = parse_experience_group_position_title(node)\n",
    "    start, end = parse_date_range(node)\n",
    "    location = node.find('p', class_='experience-group-position__location experience-group-position__meta-item')\n",
    "    description = parse_experience_position_description(node)\n",
    "    return ExperienceItem(position, start, end, location, description)\n",
    "\n",
    "def parse_experience_item(node):\n",
    "    company = node.find('h4', class_='result-card__subtitle').text.strip()\n",
    "    position = parse_experience_group_position_title(node)\n",
    "    start, end = parse_date_range(node)\n",
    "    location = node.find('p', class_='experience-item__location experience-item__meta-item')\n",
    "    description = parse_experience_position_description(node)\n",
    "    item = ExperienceItem(position, start, end, location, description)\n",
    "    return ExperienceGroup(company, [item])\n",
    "\n",
    "\n",
    "def parse_experience_group_position_title(node):\n",
    "    return node.find('h3', class_='result-card__title').text.strip()\n",
    "\n",
    "def parse_experience_position_description(node):\n",
    "    description = node.find('p', class_='show-more-less-text__text--more') or node.find('p', class_='show-more-less-text__text--less')\n",
    "    return description.get_text('\\n', strip=True) if description else None\n",
    "\n",
    "def parse_date_range(node):\n",
    "    date_range = node.find('span', class_='date-range')\n",
    "    time_list = date_range.findAll('time')\n",
    "    time_values = list(map(lambda time: time.text.strip(), time_list))\n",
    "    if len(time_values) == 2:\n",
    "        return time_values[0], time_values[1]\n",
    "    if len(time_values) == 1:\n",
    "        return time_values[0], None  # still working there\n",
    "    raise ValueError(f'Unexpected time list: ${time_list}')"
   ],
   "metadata": {
    "collapsed": false,
    "pycharm": {
     "name": "#%%\n"
    }
   }
  },
  {
   "cell_type": "code",
   "execution_count": 127,
   "outputs": [],
   "source": [
    "experience_list = soup.find('ul', class_='experience__list')\n",
    "experience_cards = experience_list.findAll('li', recursive=False)\n",
    "\n",
    "experience_groups = list(map(parse_experience_card, experience_cards))"
   ],
   "metadata": {
    "collapsed": false,
    "pycharm": {
     "name": "#%%\n"
    }
   }
  },
  {
   "cell_type": "code",
   "execution_count": 128,
   "outputs": [
    {
     "name": "stdout",
     "output_type": "stream",
     "text": [
      "Alex Saves The Day\n",
      "\tSoftware Engineering Consultant\n",
      "\t\tSep 2020-Present\n",
      "\t\tNone\n",
      "Space Madness\n",
      "\tDirector Of Pixels\n",
      "\t\tMay 2015-Present\n",
      "\t\tCarefully crafted and published a whole bunch of delightful dev tools and interactive experiences for Unity.\n",
      "Most notable projects:\n",
      "- Lunar Mobile Console: a high-performance native iOS/Android console for testing and debugging. Integrated in over 10,000 Unity games (Niantic used it to debug Pokémon GO).\n",
      "- Lunar Plugin for Unity: Quake-style terminal for Unity editor.\n",
      "- Quake One In Unity: Quake One built from scratch in Unity.\n",
      "- Super Unity Bros: pixel perfect Super Mario Bros remake\n",
      "- Battle City: pixel perfect Battle City remake\n",
      "Apptentive\n",
      "\tMobile Tech Lead\n",
      "\t\tMar 2018-Jan 2020\n",
      "\t\tLead Apptentive SDK project development (responsible key technical decisions and architectural design). Worked closely with the product team to design \"Feedback\" and \"Love Anything\" mobile projects. Provided training and mentorship for company employees. Conducted technical interviews with mobile engineering candidates.\n",
      "\tSenior Software Engineer\n",
      "\t\tJan 2017-Mar 2018\n",
      "\t\tAccomplishments:\n",
      "• Significantly improved SDK stability (fixed crashes, concurrency issues and internal inconsistencies).\n",
      "• Designed and implemented SDK \"troubleshooting\" mode (allows customers to self-diagnose most common issues).\n",
      "• Found and fixed non-trivial SDK bugs by implementing a custom BDD-style integration testing solution.\n",
      "• Replaced manual SDK release process with an automated build system.\n",
      "• Increased company revenue by extending the SDK to React Native and Xamarin platforms.\n",
      "Blastworks Inc.\n",
      "\tSenior Software Engineer\n",
      "\t\tNov 2015-Dec 2016\n",
      "\t\tHelped a team of developers, artists and designers to build a number of mobile-web games. Provided a technical consulting on developing and managing iOS/Android projects.\n",
      "Accomplishments:\n",
      "• Designed and implemented a universal build system for more than 10 projects.\n",
      "• Improved the company workflow with gitflow, automatization and best practices.\n",
      "• Created a high performance Javascript particle system.\n",
      "• Built a business intelligence mobile SDK for iOS/Android.\n",
      "Game House\n",
      "\tSenior Software Developer Engineer\n",
      "\t\tFeb 2013-Feb 2016\n",
      "\t\tAs the only iOS/Android developer on the team designed and implemented a cross promotional SDK integrated in hundreds of mobile games.\n",
      "Accomplishments:\n",
      "• Built a custom Javascript-based virtual machine which allows making all changes on the server-side without updating the SDK itself.\n",
      "• Replaced manual SDK testing with a custom BDD-style solution based on Cucumber JVM (all the specs are written in human-readable language).\n",
      "• Built SDK extensions for the popular 3rd party game engines: Unity, Marmalade, Adobe AIR, Corona.\n",
      "• Built an in-house SDK monitoring and configuring tool (logs, event, internal state, etc).\n",
      "Mobliss\n",
      "\tLead Software Engineer\n",
      "\t\tOct 2010-Feb 2013\n",
      "\t\tHelped a small startup to grow into a successful company with hundreds of customers worldwide. Later the company had been acquired by RealNetworks.\n",
      "Accomplishments:\n",
      "• Designed and implemented a profitable iOS/Android advertising SDK.\n",
      "• Fixed a number of non-trivial SDK bugs by creating a custom remote monitoring tool.\n",
      "• Made it possible to bring some legacy mobile products (GinRummy, Spinzizzle, FantasyDate) to Google Play Store by implementing J2ME runtime on Android.\n",
      "• Created a cross compiler from Objective-C to C++ in order to port a legacy product (FingerPhysics: Thumb Wars) from iOS to Android.\n",
      "• Created a cross compiler from Java to C# in order to port a legacy product (Flipstones) from J2ME to Windows Phone.\n",
      "Reaxion\n",
      "\tSoftware Engineer\n",
      "\t\tApr 2008-Sep 2010\n",
      "\t\tDeveloped mobile games for J2ME/BREW platforms using Java and C/C++.\n",
      "Accomplishments:\n",
      "• Implemented a standalone version of J2ME platform which dramatically increased development speed.\n",
      "• Added Facebook support into BREW games using an open source C++ web browser project.\n"
     ]
    }
   ],
   "source": [
    "for group in experience_groups:\n",
    "    print(group.company)\n",
    "    for item in group.items:\n",
    "        print(f'\\t{item.position}')\n",
    "        print(f'\\t\\t{item.start_date}-{item.end_date or \"Present\"}')\n",
    "        print(f'\\t\\t{item.description}')"
   ],
   "metadata": {
    "collapsed": false,
    "pycharm": {
     "name": "#%%\n"
    }
   }
  },
  {
   "cell_type": "code",
   "execution_count": null,
   "outputs": [],
   "source": [],
   "metadata": {
    "collapsed": false,
    "pycharm": {
     "name": "#%%\n"
    }
   }
  }
 ],
 "metadata": {
  "kernelspec": {
   "display_name": "Python 3",
   "language": "python",
   "name": "python3"
  },
  "language_info": {
   "codemirror_mode": {
    "name": "ipython",
    "version": 2
   },
   "file_extension": ".py",
   "mimetype": "text/x-python",
   "name": "python",
   "nbconvert_exporter": "python",
   "pygments_lexer": "ipython2",
   "version": "2.7.6"
  }
 },
 "nbformat": 4,
 "nbformat_minor": 0
}